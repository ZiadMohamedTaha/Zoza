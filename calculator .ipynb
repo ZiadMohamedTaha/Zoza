{
 "cells": [
  {
   "cell_type": "code",
   "execution_count": null,
   "metadata": {},
   "outputs": [],
   "source": [
    "for x in range (5):\n",
    "    num1=int (input (\"enter the frist number: \"))\n",
    "    opar= (input(\"the opration \"))\n",
    "    num2=int (input (\"enter the sacund number: \")) \n",
    "    if opar=='+':\n",
    "        res=num1+num2\n",
    "        print(res)\n",
    "    elif opar=='-':\n",
    "        res=num1-num2\n",
    "        print (res)\n",
    "    elif opar=='*':\n",
    "        res=num1*num2\n",
    "        print(res)\n",
    "    elif opar=='/':\n",
    "        res=num1/num2\n",
    "        print (res)\n"
   ]
  },
  {
   "cell_type": "code",
   "execution_count": null,
   "metadata": {},
   "outputs": [],
   "source": [
    "num=float(input(\"The frest number:  \"))\n",
    "add=num+9\n",
    "print(\"add\",add)\n",
    "sub=num-9\n",
    "print(\"thesubtract\",sub)\n",
    "mul=num*2\n",
    "print(\"the multiply is: \",mul)\n",
    "if num !=0:\n",
    "    division =num/3\n",
    "else:\n",
    "    division=\"cannot divide by zero\"\n",
    "print(\"the division is: \",division)"
   ]
  },
  {
   "cell_type": "code",
   "execution_count": null,
   "metadata": {},
   "outputs": [],
   "source": []
  }
 ],
 "metadata": {
  "kernelspec": {
   "display_name": "Python 3",
   "language": "python",
   "name": "python3"
  },
  "language_info": {
   "codemirror_mode": {
    "name": "ipython",
    "version": 3
   },
   "file_extension": ".py",
   "mimetype": "text/x-python",
   "name": "python",
   "nbconvert_exporter": "python",
   "pygments_lexer": "ipython3",
   "version": "3.8.3"
  }
 },
 "nbformat": 4,
 "nbformat_minor": 4
}
